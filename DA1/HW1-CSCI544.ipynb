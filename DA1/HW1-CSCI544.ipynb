{
 "cells": [
  {
   "cell_type": "markdown",
   "metadata": {},
   "source": [
    "# Importing Dependancies"
   ]
  },
  {
   "cell_type": "code",
   "execution_count": 1,
   "metadata": {},
   "outputs": [
    {
     "name": "stderr",
     "output_type": "stream",
     "text": [
      "[nltk_data] Downloading package wordnet to\n",
      "[nltk_data]     /Users/anishghiya/nltk_data...\n",
      "[nltk_data]   Package wordnet is already up-to-date!\n"
     ]
    }
   ],
   "source": [
    "import pandas as pd\n",
    "import numpy as np\n",
    "\n",
    "import seaborn as sns\n",
    "import matplotlib.pyplot as plt\n",
    "\n",
    "import nltk\n",
    "nltk.download('wordnet')\n",
    "\n",
    "from nltk.corpus   import stopwords\n",
    "from nltk.tokenize import word_tokenize\n",
    "from nltk.stem     import WordNetLemmatizer\n",
    "\n",
    "import re\n",
    "from bs4 import BeautifulSoup\n",
    "\n",
    "from sklearn.feature_extraction.text import CountVectorizer,TfidfVectorizer\n",
    "from sklearn.model_selection         import train_test_split\n",
    "\n",
    "from sklearn.svm import LinearSVC\n",
    "from sklearn.linear_model import Perceptron\n",
    "from sklearn.linear_model import LogisticRegression\n",
    "from sklearn.naive_bayes import GaussianNB, MultinomialNB\n",
    "\n",
    "from sklearn.metrics import precision_score, recall_score, f1_score\n",
    "from sklearn.metrics import classification_report, confusion_matrix\n",
    "\n",
    "import warnings\n",
    "warnings.simplefilter(\"ignore\")"
   ]
  },
  {
   "cell_type": "markdown",
   "metadata": {},
   "source": [
    "! pip install bs4 # in case you don't have it installed\n",
    "\n",
    "Dataset: https://web.archive.org/web/20201127142707if_/https://s3.amazonaws.com/amazon-reviews-pds/tsv/amazon_reviews_us_Office_Products_v1_00.tsv.gz"
   ]
  },
  {
   "cell_type": "markdown",
   "metadata": {},
   "source": [
    "# 1. Dataset Preparation\n",
    "## (i) Read the data as a Pandas frame using Pandas package"
   ]
  },
  {
   "cell_type": "code",
   "execution_count": 2,
   "metadata": {},
   "outputs": [
    {
     "name": "stderr",
     "output_type": "stream",
     "text": [
      "Skipping line 20773: expected 15 fields, saw 22\n",
      "Skipping line 39834: expected 15 fields, saw 22\n",
      "Skipping line 52957: expected 15 fields, saw 22\n",
      "Skipping line 54540: expected 15 fields, saw 22\n",
      "\n",
      "Skipping line 80276: expected 15 fields, saw 22\n",
      "Skipping line 96168: expected 15 fields, saw 22\n",
      "Skipping line 96866: expected 15 fields, saw 22\n",
      "Skipping line 98175: expected 15 fields, saw 22\n",
      "Skipping line 112539: expected 15 fields, saw 22\n",
      "Skipping line 119377: expected 15 fields, saw 22\n",
      "Skipping line 120065: expected 15 fields, saw 22\n",
      "Skipping line 124703: expected 15 fields, saw 22\n",
      "\n",
      "Skipping line 134024: expected 15 fields, saw 22\n",
      "Skipping line 153938: expected 15 fields, saw 22\n",
      "Skipping line 156225: expected 15 fields, saw 22\n",
      "Skipping line 168603: expected 15 fields, saw 22\n",
      "Skipping line 187002: expected 15 fields, saw 22\n",
      "\n",
      "Skipping line 200397: expected 15 fields, saw 22\n",
      "Skipping line 203809: expected 15 fields, saw 22\n",
      "Skipping line 207680: expected 15 fields, saw 22\n",
      "Skipping line 223421: expected 15 fields, saw 22\n",
      "Skipping line 244032: expected 15 fields, saw 22\n",
      "\n",
      "Skipping line 270329: expected 15 fields, saw 22\n",
      "Skipping line 276484: expected 15 fields, saw 22\n",
      "Skipping line 304755: expected 15 fields, saw 22\n",
      "\n",
      "Skipping line 379449: expected 15 fields, saw 22\n",
      "Skipping line 386191: expected 15 fields, saw 22\n",
      "Skipping line 391811: expected 15 fields, saw 22\n",
      "\n",
      "Skipping line 414348: expected 15 fields, saw 22\n",
      "Skipping line 414773: expected 15 fields, saw 22\n",
      "Skipping line 417572: expected 15 fields, saw 22\n",
      "Skipping line 419496: expected 15 fields, saw 22\n",
      "Skipping line 430528: expected 15 fields, saw 22\n",
      "Skipping line 442230: expected 15 fields, saw 22\n",
      "Skipping line 450931: expected 15 fields, saw 22\n",
      "\n",
      "Skipping line 465377: expected 15 fields, saw 22\n",
      "Skipping line 467685: expected 15 fields, saw 22\n",
      "Skipping line 485055: expected 15 fields, saw 22\n",
      "Skipping line 487220: expected 15 fields, saw 22\n",
      "Skipping line 496076: expected 15 fields, saw 22\n",
      "Skipping line 512269: expected 15 fields, saw 22\n",
      "\n",
      "Skipping line 529505: expected 15 fields, saw 22\n",
      "Skipping line 531286: expected 15 fields, saw 22\n",
      "Skipping line 535424: expected 15 fields, saw 22\n",
      "Skipping line 569898: expected 15 fields, saw 22\n",
      "Skipping line 586293: expected 15 fields, saw 22\n",
      "\n",
      "Skipping line 593880: expected 15 fields, saw 22\n",
      "Skipping line 599274: expected 15 fields, saw 22\n",
      "Skipping line 607961: expected 15 fields, saw 22\n",
      "Skipping line 612413: expected 15 fields, saw 22\n",
      "Skipping line 615913: expected 15 fields, saw 22\n",
      "\n",
      "Skipping line 677580: expected 15 fields, saw 22\n",
      "Skipping line 687191: expected 15 fields, saw 22\n",
      "Skipping line 710819: expected 15 fields, saw 22\n",
      "\n",
      "Skipping line 728692: expected 15 fields, saw 22\n",
      "Skipping line 730216: expected 15 fields, saw 22\n",
      "Skipping line 758397: expected 15 fields, saw 22\n",
      "Skipping line 760061: expected 15 fields, saw 22\n",
      "Skipping line 768935: expected 15 fields, saw 22\n",
      "Skipping line 769483: expected 15 fields, saw 22\n",
      "\n",
      "Skipping line 822725: expected 15 fields, saw 22\n",
      "Skipping line 823621: expected 15 fields, saw 22\n",
      "\n",
      "Skipping line 857041: expected 15 fields, saw 22\n",
      "Skipping line 857320: expected 15 fields, saw 22\n",
      "Skipping line 858565: expected 15 fields, saw 22\n",
      "Skipping line 860629: expected 15 fields, saw 22\n",
      "Skipping line 864033: expected 15 fields, saw 22\n",
      "Skipping line 868673: expected 15 fields, saw 22\n",
      "Skipping line 869189: expected 15 fields, saw 22\n",
      "\n",
      "Skipping line 938605: expected 15 fields, saw 22\n",
      "Skipping line 940100: expected 15 fields, saw 22\n",
      "Skipping line 975137: expected 15 fields, saw 22\n",
      "Skipping line 976314: expected 15 fields, saw 22\n",
      "\n",
      "Skipping line 985597: expected 15 fields, saw 22\n",
      "Skipping line 990873: expected 15 fields, saw 22\n",
      "Skipping line 991806: expected 15 fields, saw 22\n",
      "Skipping line 1019808: expected 15 fields, saw 22\n",
      "Skipping line 1021526: expected 15 fields, saw 22\n",
      "Skipping line 1023905: expected 15 fields, saw 22\n",
      "Skipping line 1044207: expected 15 fields, saw 22\n",
      "\n",
      "Skipping line 1084683: expected 15 fields, saw 22\n",
      "Skipping line 1093288: expected 15 fields, saw 22\n",
      "\n",
      "Skipping line 1136430: expected 15 fields, saw 22\n",
      "Skipping line 1139815: expected 15 fields, saw 22\n",
      "\n",
      "Skipping line 1179821: expected 15 fields, saw 22\n",
      "Skipping line 1195351: expected 15 fields, saw 22\n",
      "Skipping line 1202007: expected 15 fields, saw 22\n",
      "Skipping line 1224868: expected 15 fields, saw 22\n",
      "Skipping line 1232490: expected 15 fields, saw 22\n",
      "Skipping line 1238697: expected 15 fields, saw 22\n",
      "\n",
      "Skipping line 1258654: expected 15 fields, saw 22\n",
      "Skipping line 1279948: expected 15 fields, saw 22\n",
      "Skipping line 1294360: expected 15 fields, saw 22\n",
      "Skipping line 1302240: expected 15 fields, saw 22\n",
      "\n",
      "Skipping line 1413654: expected 15 fields, saw 22\n",
      "\n",
      "Skipping line 1687095: expected 15 fields, saw 22\n",
      "\n",
      "Skipping line 1805966: expected 15 fields, saw 22\n",
      "\n",
      "Skipping line 1892134: expected 15 fields, saw 22\n",
      "\n"
     ]
    }
   ],
   "source": [
    "df = pd.read_csv(\"data.tsv\", sep=\"\\t\", error_bad_lines=False)"
   ]
  },
  {
   "cell_type": "code",
   "execution_count": 3,
   "metadata": {},
   "outputs": [
    {
     "data": {
      "text/html": [
       "<div>\n",
       "<style scoped>\n",
       "    .dataframe tbody tr th:only-of-type {\n",
       "        vertical-align: middle;\n",
       "    }\n",
       "\n",
       "    .dataframe tbody tr th {\n",
       "        vertical-align: top;\n",
       "    }\n",
       "\n",
       "    .dataframe thead th {\n",
       "        text-align: right;\n",
       "    }\n",
       "</style>\n",
       "<table border=\"1\" class=\"dataframe\">\n",
       "  <thead>\n",
       "    <tr style=\"text-align: right;\">\n",
       "      <th></th>\n",
       "      <th>marketplace</th>\n",
       "      <th>customer_id</th>\n",
       "      <th>review_id</th>\n",
       "      <th>product_id</th>\n",
       "      <th>product_parent</th>\n",
       "      <th>product_title</th>\n",
       "      <th>product_category</th>\n",
       "      <th>star_rating</th>\n",
       "      <th>helpful_votes</th>\n",
       "      <th>total_votes</th>\n",
       "      <th>vine</th>\n",
       "      <th>verified_purchase</th>\n",
       "      <th>review_headline</th>\n",
       "      <th>review_body</th>\n",
       "      <th>review_date</th>\n",
       "    </tr>\n",
       "  </thead>\n",
       "  <tbody>\n",
       "    <tr>\n",
       "      <th>0</th>\n",
       "      <td>US</td>\n",
       "      <td>43081963</td>\n",
       "      <td>R18RVCKGH1SSI9</td>\n",
       "      <td>B001BM2MAC</td>\n",
       "      <td>307809868</td>\n",
       "      <td>Scotch Cushion Wrap 7961, 12 Inches x 100 Feet</td>\n",
       "      <td>Office Products</td>\n",
       "      <td>5</td>\n",
       "      <td>0.0</td>\n",
       "      <td>0.0</td>\n",
       "      <td>N</td>\n",
       "      <td>Y</td>\n",
       "      <td>Five Stars</td>\n",
       "      <td>Great product.</td>\n",
       "      <td>2015-08-31</td>\n",
       "    </tr>\n",
       "    <tr>\n",
       "      <th>1</th>\n",
       "      <td>US</td>\n",
       "      <td>10951564</td>\n",
       "      <td>R3L4L6LW1PUOFY</td>\n",
       "      <td>B00DZYEXPQ</td>\n",
       "      <td>75004341</td>\n",
       "      <td>Dust-Off Compressed Gas Duster, Pack of 4</td>\n",
       "      <td>Office Products</td>\n",
       "      <td>5</td>\n",
       "      <td>0.0</td>\n",
       "      <td>1.0</td>\n",
       "      <td>N</td>\n",
       "      <td>Y</td>\n",
       "      <td>Phffffffft, Phfffffft. Lots of air, and it's C...</td>\n",
       "      <td>What's to say about this commodity item except...</td>\n",
       "      <td>2015-08-31</td>\n",
       "    </tr>\n",
       "    <tr>\n",
       "      <th>2</th>\n",
       "      <td>US</td>\n",
       "      <td>21143145</td>\n",
       "      <td>R2J8AWXWTDX2TF</td>\n",
       "      <td>B00RTMUHDW</td>\n",
       "      <td>529689027</td>\n",
       "      <td>Amram Tagger Standard Tag Attaching Tagging Gu...</td>\n",
       "      <td>Office Products</td>\n",
       "      <td>5</td>\n",
       "      <td>0.0</td>\n",
       "      <td>0.0</td>\n",
       "      <td>N</td>\n",
       "      <td>Y</td>\n",
       "      <td>but I am sure I will like it.</td>\n",
       "      <td>Haven't used yet, but I am sure I will like it.</td>\n",
       "      <td>2015-08-31</td>\n",
       "    </tr>\n",
       "    <tr>\n",
       "      <th>3</th>\n",
       "      <td>US</td>\n",
       "      <td>52782374</td>\n",
       "      <td>R1PR37BR7G3M6A</td>\n",
       "      <td>B00D7H8XB6</td>\n",
       "      <td>868449945</td>\n",
       "      <td>AmazonBasics 12-Sheet High-Security Micro-Cut ...</td>\n",
       "      <td>Office Products</td>\n",
       "      <td>1</td>\n",
       "      <td>2.0</td>\n",
       "      <td>3.0</td>\n",
       "      <td>N</td>\n",
       "      <td>Y</td>\n",
       "      <td>and the shredder was dirty and the bin was par...</td>\n",
       "      <td>Although this was labeled as &amp;#34;new&amp;#34; the...</td>\n",
       "      <td>2015-08-31</td>\n",
       "    </tr>\n",
       "    <tr>\n",
       "      <th>4</th>\n",
       "      <td>US</td>\n",
       "      <td>24045652</td>\n",
       "      <td>R3BDDDZMZBZDPU</td>\n",
       "      <td>B001XCWP34</td>\n",
       "      <td>33521401</td>\n",
       "      <td>Derwent Colored Pencils, Inktense Ink Pencils,...</td>\n",
       "      <td>Office Products</td>\n",
       "      <td>4</td>\n",
       "      <td>0.0</td>\n",
       "      <td>0.0</td>\n",
       "      <td>N</td>\n",
       "      <td>Y</td>\n",
       "      <td>Four Stars</td>\n",
       "      <td>Gorgeous colors and easy to use</td>\n",
       "      <td>2015-08-31</td>\n",
       "    </tr>\n",
       "  </tbody>\n",
       "</table>\n",
       "</div>"
      ],
      "text/plain": [
       "  marketplace  customer_id       review_id  product_id  product_parent  \\\n",
       "0          US     43081963  R18RVCKGH1SSI9  B001BM2MAC       307809868   \n",
       "1          US     10951564  R3L4L6LW1PUOFY  B00DZYEXPQ        75004341   \n",
       "2          US     21143145  R2J8AWXWTDX2TF  B00RTMUHDW       529689027   \n",
       "3          US     52782374  R1PR37BR7G3M6A  B00D7H8XB6       868449945   \n",
       "4          US     24045652  R3BDDDZMZBZDPU  B001XCWP34        33521401   \n",
       "\n",
       "                                       product_title product_category  \\\n",
       "0     Scotch Cushion Wrap 7961, 12 Inches x 100 Feet  Office Products   \n",
       "1          Dust-Off Compressed Gas Duster, Pack of 4  Office Products   \n",
       "2  Amram Tagger Standard Tag Attaching Tagging Gu...  Office Products   \n",
       "3  AmazonBasics 12-Sheet High-Security Micro-Cut ...  Office Products   \n",
       "4  Derwent Colored Pencils, Inktense Ink Pencils,...  Office Products   \n",
       "\n",
       "  star_rating  helpful_votes  total_votes vine verified_purchase  \\\n",
       "0           5            0.0          0.0    N                 Y   \n",
       "1           5            0.0          1.0    N                 Y   \n",
       "2           5            0.0          0.0    N                 Y   \n",
       "3           1            2.0          3.0    N                 Y   \n",
       "4           4            0.0          0.0    N                 Y   \n",
       "\n",
       "                                     review_headline  \\\n",
       "0                                         Five Stars   \n",
       "1  Phffffffft, Phfffffft. Lots of air, and it's C...   \n",
       "2                      but I am sure I will like it.   \n",
       "3  and the shredder was dirty and the bin was par...   \n",
       "4                                         Four Stars   \n",
       "\n",
       "                                         review_body review_date  \n",
       "0                                     Great product.  2015-08-31  \n",
       "1  What's to say about this commodity item except...  2015-08-31  \n",
       "2    Haven't used yet, but I am sure I will like it.  2015-08-31  \n",
       "3  Although this was labeled as &#34;new&#34; the...  2015-08-31  \n",
       "4                    Gorgeous colors and easy to use  2015-08-31  "
      ]
     },
     "execution_count": 3,
     "metadata": {},
     "output_type": "execute_result"
    }
   ],
   "source": [
    "df.head()"
   ]
  },
  {
   "cell_type": "markdown",
   "metadata": {},
   "source": [
    "## (ii) Only keep the Reviews and Ratings fields in the input data frame to generate data."
   ]
  },
  {
   "cell_type": "code",
   "execution_count": 4,
   "metadata": {},
   "outputs": [
    {
     "name": "stdout",
     "output_type": "stream",
     "text": [
      "The unique values in the Star Rating column are: [5 1 4 2 3 '5' '4' '3' '1' '2' '2015-06-05' '2015-02-11' nan '2014-02-14']\n",
      "Number of NA values is: 14\n",
      "After Cleaning the unique values in the Star Rating Column are: [5 1 4 2 3]\n"
     ]
    }
   ],
   "source": [
    "#Extracting Reviews and ratings\n",
    "df_subset =  df[['review_headline', 'review_body', 'star_rating']]\n",
    "print(f\"The unique values in the Star Rating column are: {df.star_rating.unique()}\")\n",
    "\n",
    "#Removing the date values from the above as they are false instances\n",
    "df_clean = df_subset[~df_subset['star_rating'].isin([\"2015-06-05\", \"2015-02-11\", \"2014-02-14\"])]\n",
    "print(f\"Number of NA values is: {df_clean.star_rating.isna().sum()}\")\n",
    "\n",
    "#Converting StarRatings as Integer and dropping rows with NA Values\n",
    "df_clean.dropna(inplace=True)\n",
    "df_clean['star_rating'] = df_clean['star_rating'].astype(\"int\")\n",
    "print(f\"After Cleaning the unique values in the Star Rating Column are: {df_clean.star_rating.unique()}\")"
   ]
  },
  {
   "cell_type": "markdown",
   "metadata": {},
   "source": [
    "## (iii) We create a binary classification problem according to the ratings. Let ratings with the values of 1, 2 and 3 form class 1, and ratings with the values of 4 and 5 form class 2"
   ]
  },
  {
   "cell_type": "code",
   "execution_count": 5,
   "metadata": {},
   "outputs": [
    {
     "data": {
      "text/html": [
       "<div>\n",
       "<style scoped>\n",
       "    .dataframe tbody tr th:only-of-type {\n",
       "        vertical-align: middle;\n",
       "    }\n",
       "\n",
       "    .dataframe tbody tr th {\n",
       "        vertical-align: top;\n",
       "    }\n",
       "\n",
       "    .dataframe thead th {\n",
       "        text-align: right;\n",
       "    }\n",
       "</style>\n",
       "<table border=\"1\" class=\"dataframe\">\n",
       "  <thead>\n",
       "    <tr style=\"text-align: right;\">\n",
       "      <th></th>\n",
       "      <th>review_headline</th>\n",
       "      <th>review_body</th>\n",
       "      <th>new_class</th>\n",
       "    </tr>\n",
       "  </thead>\n",
       "  <tbody>\n",
       "    <tr>\n",
       "      <th>0</th>\n",
       "      <td>Five Stars</td>\n",
       "      <td>Great product.</td>\n",
       "      <td>2</td>\n",
       "    </tr>\n",
       "    <tr>\n",
       "      <th>1</th>\n",
       "      <td>Phffffffft, Phfffffft. Lots of air, and it's C...</td>\n",
       "      <td>What's to say about this commodity item except...</td>\n",
       "      <td>2</td>\n",
       "    </tr>\n",
       "    <tr>\n",
       "      <th>2</th>\n",
       "      <td>but I am sure I will like it.</td>\n",
       "      <td>Haven't used yet, but I am sure I will like it.</td>\n",
       "      <td>2</td>\n",
       "    </tr>\n",
       "    <tr>\n",
       "      <th>3</th>\n",
       "      <td>and the shredder was dirty and the bin was par...</td>\n",
       "      <td>Although this was labeled as &amp;#34;new&amp;#34; the...</td>\n",
       "      <td>1</td>\n",
       "    </tr>\n",
       "    <tr>\n",
       "      <th>4</th>\n",
       "      <td>Four Stars</td>\n",
       "      <td>Gorgeous colors and easy to use</td>\n",
       "      <td>2</td>\n",
       "    </tr>\n",
       "  </tbody>\n",
       "</table>\n",
       "</div>"
      ],
      "text/plain": [
       "                                     review_headline  \\\n",
       "0                                         Five Stars   \n",
       "1  Phffffffft, Phfffffft. Lots of air, and it's C...   \n",
       "2                      but I am sure I will like it.   \n",
       "3  and the shredder was dirty and the bin was par...   \n",
       "4                                         Four Stars   \n",
       "\n",
       "                                         review_body  new_class  \n",
       "0                                     Great product.          2  \n",
       "1  What's to say about this commodity item except...          2  \n",
       "2    Haven't used yet, but I am sure I will like it.          2  \n",
       "3  Although this was labeled as &#34;new&#34; the...          1  \n",
       "4                    Gorgeous colors and easy to use          2  "
      ]
     },
     "execution_count": 5,
     "metadata": {},
     "output_type": "execute_result"
    }
   ],
   "source": [
    "# Create a new column 'new_class' based on 'star_rating' values\n",
    "# Assign 2 to rows where 'star_rating' is greater than 3 (representing positive sentiment)\n",
    "df_clean.loc[df_clean['star_rating'] > 3, 'new_class'] = 2\n",
    "\n",
    "# Assign 1 to rows where 'star_rating' is 3 or lower (representing negative sentiment)\n",
    "df_clean.loc[df_clean['star_rating'] <= 3, 'new_class'] = 1\n",
    "\n",
    "# Convert the 'new_class' column to integers for consistency\n",
    "df_clean['new_class'] = df_clean['new_class'].astype(int)\n",
    "\n",
    "# Drop the original 'star_rating' column as it's no longer needed\n",
    "df_clean.drop('star_rating', axis=1, inplace=True)\n",
    "df_clean.head()"
   ]
  },
  {
   "cell_type": "code",
   "execution_count": 6,
   "metadata": {},
   "outputs": [
    {
     "data": {
      "text/plain": [
       "2    2001098\n",
       "1     639030\n",
       "Name: new_class, dtype: int64"
      ]
     },
     "execution_count": 6,
     "metadata": {},
     "output_type": "execute_result"
    }
   ],
   "source": [
    "df_clean['new_class'].value_counts()"
   ]
  },
  {
   "cell_type": "markdown",
   "metadata": {},
   "source": [
    "## (iv) The original dataset is large. To avoid the computational burden, select 50,000 random reviews from each rating class and create a balanced dataset to perform the required tasks on the downsized dataset"
   ]
  },
  {
   "cell_type": "code",
   "execution_count": 7,
   "metadata": {},
   "outputs": [],
   "source": [
    "# Define the number of samples to select per class (equal for both classes)\n",
    "num_samples_per_class = 50000\n",
    "\n",
    "# Get the indices of rows belonging to class 1 (negative sentiment) and class 2 (positive sentiment)\n",
    "class_1_indices = df_clean[df_clean['new_class'] == 1].index\n",
    "class_2_indices = df_clean[df_clean['new_class'] == 2].index\n",
    "\n",
    "# Randomly sample 'num_samples_per_class' indices from each class with a fixed random seed (for reproducibility)\n",
    "selected_indices = (\n",
    "    class_1_indices.to_series().sample(num_samples_per_class, random_state=42)\n",
    "    .append(class_2_indices.to_series().sample(num_samples_per_class, random_state=42))\n",
    ")\n",
    "\n",
    "# Create a new DataFrame 'df_50k' containing the selected samples from both classes\n",
    "df_50k = df_clean.loc[selected_indices]\n",
    "\n",
    "# df_50k, _ = train_test_split(df_clean, train_size=50000, stratify=df_clean['new_class'], random_state=42)"
   ]
  },
  {
   "cell_type": "code",
   "execution_count": 8,
   "metadata": {},
   "outputs": [
    {
     "name": "stdout",
     "output_type": "stream",
     "text": [
      "Original dimensions: (2640128, 3), \n",
      "After extracting 50000 rows: (100000, 3)\n"
     ]
    }
   ],
   "source": [
    "print(f\"Original dimensions: {df_clean.shape}, \\nAfter extracting 50000 rows: {df_50k.shape}\")"
   ]
  },
  {
   "cell_type": "code",
   "execution_count": 9,
   "metadata": {},
   "outputs": [
    {
     "data": {
      "text/plain": [
       "1    50000\n",
       "2    50000\n",
       "Name: new_class, dtype: int64"
      ]
     },
     "execution_count": 9,
     "metadata": {},
     "output_type": "execute_result"
    }
   ],
   "source": [
    "df_50k['new_class'].value_counts()"
   ]
  },
  {
   "cell_type": "markdown",
   "metadata": {},
   "source": [
    "# 2. Data Cleaning"
   ]
  },
  {
   "cell_type": "code",
   "execution_count": 10,
   "metadata": {},
   "outputs": [],
   "source": [
    "abbreviations = {\n",
    "    \"$\" : \" dollar \",\n",
    "    \"€\" : \" euro \",\n",
    "    \"4ao\" : \"for adults only\",\n",
    "    \"a.m\" : \"before midday\",\n",
    "    \"a3\" : \"anytime anywhere anyplace\",\n",
    "    \"aamof\" : \"as a matter of fact\",\n",
    "    \"acct\" : \"account\",\n",
    "    \"adih\" : \"another day in hell\",\n",
    "    \"afaic\" : \"as far as i am concerned\",\n",
    "    \"afaict\" : \"as far as i can tell\",\n",
    "    \"afaik\" : \"as far as i know\",\n",
    "    \"afair\" : \"as far as i remember\",\n",
    "    \"afk\" : \"away from keyboard\",\n",
    "    \"app\" : \"application\",\n",
    "    \"approx\" : \"approximately\",\n",
    "    \"apps\" : \"applications\",\n",
    "    \"asap\" : \"as soon as possible\",\n",
    "    \"asl\" : \"age, sex, location\",\n",
    "    \"atk\" : \"at the keyboard\",\n",
    "    \"ave.\" : \"avenue\",\n",
    "    \"aymm\" : \"are you my mother\",\n",
    "    \"ayor\" : \"at your own risk\", \n",
    "    \"b&b\" : \"bed and breakfast\",\n",
    "    \"b+b\" : \"bed and breakfast\",\n",
    "    \"b.c\" : \"before christ\",\n",
    "    \"b2b\" : \"business to business\",\n",
    "    \"b2c\" : \"business to customer\",\n",
    "    \"b4\" : \"before\",\n",
    "    \"b4n\" : \"bye for now\",\n",
    "    \"b@u\" : \"back at you\",\n",
    "    \"bae\" : \"before anyone else\",\n",
    "    \"bak\" : \"back at keyboard\",\n",
    "    \"bbbg\" : \"bye bye be good\",\n",
    "    \"bbc\" : \"british broadcasting corporation\",\n",
    "    \"bbias\" : \"be back in a second\",\n",
    "    \"bbl\" : \"be back later\",\n",
    "    \"bbs\" : \"be back soon\",\n",
    "    \"be4\" : \"before\",\n",
    "    \"bfn\" : \"bye for now\",\n",
    "    \"blvd\" : \"boulevard\",\n",
    "    \"bout\" : \"about\",\n",
    "    \"brb\" : \"be right back\",\n",
    "    \"bros\" : \"brothers\",\n",
    "    \"brt\" : \"be right there\",\n",
    "    \"bsaaw\" : \"big smile and a wink\",\n",
    "    \"btw\" : \"by the way\",\n",
    "    \"bwl\" : \"bursting with laughter\",\n",
    "    \"c/o\" : \"care of\",\n",
    "    \"cet\" : \"central european time\",\n",
    "    \"cf\" : \"compare\",\n",
    "    \"cia\" : \"central intelligence agency\",\n",
    "    \"csl\" : \"can not stop laughing\",\n",
    "    \"cu\" : \"see you\",\n",
    "    \"cul8r\" : \"see you later\",\n",
    "    \"cv\" : \"curriculum vitae\",\n",
    "    \"cwot\" : \"complete waste of time\",\n",
    "    \"cya\" : \"see you\",\n",
    "    \"cyt\" : \"see you tomorrow\",\n",
    "    \"dae\" : \"does anyone else\",\n",
    "    \"dbmib\" : \"do not bother me i am busy\",\n",
    "    \"diy\" : \"do it yourself\",\n",
    "    \"dm\" : \"direct message\",\n",
    "    \"dwh\" : \"during work hours\",\n",
    "    \"e123\" : \"easy as one two three\",\n",
    "    \"eet\" : \"eastern european time\",\n",
    "    \"eg\" : \"example\",\n",
    "    \"embm\" : \"early morning business meeting\",\n",
    "    \"encl\" : \"enclosed\",\n",
    "    \"encl.\" : \"enclosed\",\n",
    "    \"etc\" : \"and so on\",\n",
    "    \"faq\" : \"frequently asked questions\",\n",
    "    \"fawc\" : \"for anyone who cares\",\n",
    "    \"fb\" : \"facebook\",\n",
    "    \"fc\" : \"fingers crossed\",\n",
    "    \"fig\" : \"figure\",\n",
    "    \"fimh\" : \"forever in my heart\", \n",
    "    \"ft.\" : \"feet\",\n",
    "    \"ft\" : \"featuring\",\n",
    "    \"ftl\" : \"for the loss\",\n",
    "    \"ftw\" : \"for the win\",\n",
    "    \"fwiw\" : \"for what it is worth\",\n",
    "    \"fyi\" : \"for your information\",\n",
    "    \"g9\" : \"genius\",\n",
    "    \"gahoy\" : \"get a hold of yourself\",\n",
    "    \"gal\" : \"get a life\",\n",
    "    \"gcse\" : \"general certificate of secondary education\",\n",
    "    \"gfn\" : \"gone for now\",\n",
    "    \"gg\" : \"good game\",\n",
    "    \"gl\" : \"good luck\",\n",
    "    \"glhf\" : \"good luck have fun\",\n",
    "    \"gmt\" : \"greenwich mean time\",\n",
    "    \"gmta\" : \"great minds think alike\",\n",
    "    \"gn\" : \"good night\",\n",
    "    \"g.o.a.t\" : \"greatest of all time\",\n",
    "    \"goat\" : \"greatest of all time\",\n",
    "    \"goi\" : \"get over it\",\n",
    "    \"gps\" : \"global positioning system\",\n",
    "    \"gr8\" : \"great\",\n",
    "    \"gratz\" : \"congratulations\",\n",
    "    \"gyal\" : \"girl\",\n",
    "    \"h&c\" : \"hot and cold\",\n",
    "    \"hp\" : \"horsepower\",\n",
    "    \"hr\" : \"hour\",\n",
    "    \"hrh\" : \"his royal highness\",\n",
    "    \"ht\" : \"height\",\n",
    "    \"ibrb\" : \"i will be right back\",\n",
    "    \"ic\" : \"i see\",\n",
    "    \"icq\" : \"i seek you\",\n",
    "    \"icymi\" : \"in case you missed it\",\n",
    "    \"idc\" : \"i do not care\",\n",
    "    \"idgadf\" : \"i do not give a damn fuck\",\n",
    "    \"idgaf\" : \"i do not give a fuck\",\n",
    "    \"idk\" : \"i do not know\",\n",
    "    \"ie\" : \"that is\",\n",
    "    \"i.e\" : \"that is\",\n",
    "    \"ifyp\" : \"i feel your pain\",\n",
    "    \"IG\" : \"instagram\",\n",
    "    \"iirc\" : \"if i remember correctly\",\n",
    "    \"ilu\" : \"i love you\",\n",
    "    \"ily\" : \"i love you\",\n",
    "    \"imho\" : \"in my humble opinion\",\n",
    "    \"imo\" : \"in my opinion\",\n",
    "    \"imu\" : \"i miss you\",\n",
    "    \"iow\" : \"in other words\",\n",
    "    \"irl\" : \"in real life\",\n",
    "    \"j4f\" : \"just for fun\",\n",
    "    \"jic\" : \"just in case\",\n",
    "    \"jk\" : \"just kidding\",\n",
    "    \"jsyk\" : \"just so you know\",\n",
    "    \"l8r\" : \"later\",\n",
    "    \"lb\" : \"pound\",\n",
    "    \"lbs\" : \"pounds\",\n",
    "    \"ldr\" : \"long distance relationship\",\n",
    "    \"lmao\" : \"laugh my ass off\",\n",
    "    \"lmfao\" : \"laugh my fucking ass off\",\n",
    "    \"lol\" : \"laughing out loud\",\n",
    "    \"ltd\" : \"limited\",\n",
    "    \"ltns\" : \"long time no see\",\n",
    "    \"m8\" : \"mate\",\n",
    "    \"mm\" : \"milimeter\",\n",
    "    \"mf\" : \"motherfucker\",\n",
    "    \"mfs\" : \"motherfuckers\",\n",
    "    \"mfw\" : \"my face when\",\n",
    "    \"mofo\" : \"motherfucker\",\n",
    "    \"mph\" : \"miles per hour\",\n",
    "    \"mr\" : \"mister\",\n",
    "    \"mrw\" : \"my reaction when\",\n",
    "    \"ms\" : \"miss\",\n",
    "    \"mte\" : \"my thoughts exactly\",\n",
    "    \"nagi\" : \"not a good idea\",\n",
    "    \"nbc\" : \"national broadcasting company\",\n",
    "    \"nbd\" : \"not big deal\",\n",
    "    \"nfs\" : \"not for sale\",\n",
    "    \"ngl\" : \"not going to lie\",\n",
    "    \"nhs\" : \"national health service\",\n",
    "    \"nrn\" : \"no reply necessary\",\n",
    "    \"nsfl\" : \"not safe for life\",\n",
    "    \"nsfw\" : \"not safe for work\",\n",
    "    \"nth\" : \"nice to have\",\n",
    "    \"nvr\" : \"never\",\n",
    "    \"nyc\" : \"new york city\",\n",
    "    \"oc\" : \"original content\",\n",
    "    \"og\" : \"original\",\n",
    "    \"ohp\" : \"overhead projector\",\n",
    "    \"oic\" : \"oh i see\",\n",
    "    \"omdb\" : \"over my dead body\",\n",
    "    \"omg\" : \"oh my god\",\n",
    "    \"omw\" : \"on my way\",\n",
    "    \"p.a\" : \"per annum\",\n",
    "    \"p.m\" : \"after midday\",\n",
    "    \"pm\" : \"prime minister\",\n",
    "    \"poc\" : \"people of color\",\n",
    "    \"pov\" : \"point of view\",\n",
    "    \"pp\" : \"pages\",\n",
    "    \"ppl\" : \"people\",\n",
    "    \"prw\" : \"parents are watching\",\n",
    "    \"ps\" : \"postscript\",\n",
    "    \"pt\" : \"point\",\n",
    "    \"ptb\" : \"please text back\",\n",
    "    \"pto\" : \"please turn over\",\n",
    "    \"qpsa\" : \"what happens\", #\"que pasa\",\n",
    "    \"ratchet\" : \"rude\",\n",
    "    \"rbtl\" : \"read between the lines\",\n",
    "    \"rlrt\" : \"real life retweet\", \n",
    "    \"rofl\" : \"rolling on the floor laughing\",\n",
    "    \"roflol\" : \"rolling on the floor laughing out loud\",\n",
    "    \"rotflmao\" : \"rolling on the floor laughing my ass off\",\n",
    "    \"rt\" : \"retweet\",\n",
    "    \"ruok\" : \"are you ok\",\n",
    "    \"sfw\" : \"safe for work\",\n",
    "    \"sk8\" : \"skate\",\n",
    "    \"smh\" : \"shake my head\",\n",
    "    \"sq\" : \"square\",\n",
    "    \"srsly\" : \"seriously\", \n",
    "    \"ssdd\" : \"same stuff different day\",\n",
    "    \"tbh\" : \"to be honest\",\n",
    "    \"tbs\" : \"tablespooful\",\n",
    "    \"tbsp\" : \"tablespooful\",\n",
    "    \"tfw\" : \"that feeling when\",\n",
    "    \"thks\" : \"thank you\",\n",
    "    \"tho\" : \"though\",\n",
    "    \"thx\" : \"thank you\",\n",
    "    \"tia\" : \"thanks in advance\",\n",
    "    \"til\" : \"today i learned\",\n",
    "    \"tl;dr\" : \"too long i did not read\",\n",
    "    \"tldr\" : \"too long i did not read\",\n",
    "    \"tmb\" : \"tweet me back\",\n",
    "    \"tntl\" : \"trying not to laugh\",\n",
    "    \"ttyl\" : \"talk to you later\",\n",
    "    \"u\" : \"you\",\n",
    "    \"u2\" : \"you too\",\n",
    "    \"u4e\" : \"yours for ever\",\n",
    "    \"utc\" : \"coordinated universal time\",\n",
    "    \"w/\" : \"with\",\n",
    "    \"w/o\" : \"without\",\n",
    "    \"w8\" : \"wait\",\n",
    "    \"wassup\" : \"what is up\",\n",
    "    \"wb\" : \"welcome back\",\n",
    "    \"wtf\" : \"what the fuck\",\n",
    "    \"wtg\" : \"way to go\",\n",
    "    \"wtpa\" : \"where the party at\",\n",
    "    \"wuf\" : \"where are you from\",\n",
    "    \"wuzup\" : \"what is up\",\n",
    "    \"wywh\" : \"wish you were here\",\n",
    "    \"yd\" : \"yard\",\n",
    "    \"ygtr\" : \"you got that right\",\n",
    "    \"ynk\" : \"you never know\",\n",
    "    \"zzz\" : \"sleeping bored and tired\"\n",
    "}"
   ]
  },
  {
   "cell_type": "code",
   "execution_count": 11,
   "metadata": {},
   "outputs": [],
   "source": [
    "class TextPreprocessor:\n",
    "    def __init__(self):\n",
    "        pass\n",
    "    \n",
    "    @staticmethod\n",
    "    def lower_case(text):\n",
    "        return text.lower()\n",
    "\n",
    "    @staticmethod\n",
    "    def remove_html(text):\n",
    "        html = re.compile(r'<.*?>')\n",
    "        return html.sub(r'', text)\n",
    "\n",
    "    @staticmethod\n",
    "    def remove_URL(text):\n",
    "        url = re.compile(r'https?://\\S+|www\\.\\S+')\n",
    "        x = re.findall(url, text)\n",
    "        if x != []:\n",
    "            x = x[0]\n",
    "        else:\n",
    "            x = ''\n",
    "        return text.replace(x, '')\n",
    "    \n",
    "    @staticmethod\n",
    "    def remove_non_alphabet(text):\n",
    "        words = []\n",
    "        for word in text.split():\n",
    "            words.append(re.sub(\"[^A-Za-z]\", \"\", word))\n",
    "        return \" \".join(words)\n",
    "\n",
    "    @staticmethod\n",
    "    def remove_spaces(text):\n",
    "        text = text.strip().split()\n",
    "        text = \" \".join(text)\n",
    "        return text\n",
    "    \n",
    "    @staticmethod\n",
    "    def convert_abbrev(text):\n",
    "        sent=[]\n",
    "        for word in text.split(\" \"):\n",
    "            if word in abbreviations.keys():\n",
    "                sent.append(abbreviations[word])\n",
    "            else :\n",
    "                sent.append(word)\n",
    "        return \" \".join(sent)\n",
    "    \n",
    "    \n",
    "    def preprocess(self, text):\n",
    "        text = self.lower_case(text)\n",
    "        text = self.remove_html(text)\n",
    "        text = self.remove_URL(text)\n",
    "        text = self.remove_non_alphabet(text)\n",
    "        text = self.remove_spaces(text)\n",
    "        text = self.convert_abbrev(text)\n",
    "        return text\n",
    "\n",
    "# Creating an instance of the TextPreprocessor class\n",
    "preprocessor = TextPreprocessor()\n",
    "\n",
    "# Assuming 'df_50k' is your DataFrame\n",
    "df_50k['review_body_cleaned'] = df_50k['review_body'].apply(preprocessor.preprocess)"
   ]
  },
  {
   "cell_type": "code",
   "execution_count": 12,
   "metadata": {},
   "outputs": [
    {
     "data": {
      "text/html": [
       "<div>\n",
       "<style scoped>\n",
       "    .dataframe tbody tr th:only-of-type {\n",
       "        vertical-align: middle;\n",
       "    }\n",
       "\n",
       "    .dataframe tbody tr th {\n",
       "        vertical-align: top;\n",
       "    }\n",
       "\n",
       "    .dataframe thead th {\n",
       "        text-align: right;\n",
       "    }\n",
       "</style>\n",
       "<table border=\"1\" class=\"dataframe\">\n",
       "  <thead>\n",
       "    <tr style=\"text-align: right;\">\n",
       "      <th></th>\n",
       "      <th>review_headline</th>\n",
       "      <th>review_body</th>\n",
       "      <th>new_class</th>\n",
       "      <th>review_body_cleaned</th>\n",
       "    </tr>\n",
       "  </thead>\n",
       "  <tbody>\n",
       "    <tr>\n",
       "      <th>1681909</th>\n",
       "      <td>Poor quality for an item that was costly.</td>\n",
       "      <td>Last school year I purchased it for my daughte...</td>\n",
       "      <td>1</td>\n",
       "      <td>last school year i purchased it for my daughte...</td>\n",
       "    </tr>\n",
       "    <tr>\n",
       "      <th>2127992</th>\n",
       "      <td>Ripped after 1 DAY of use!!!!</td>\n",
       "      <td>If you are thinking of purchasing this product...</td>\n",
       "      <td>1</td>\n",
       "      <td>if you are thinking of purchasing this product...</td>\n",
       "    </tr>\n",
       "    <tr>\n",
       "      <th>1113938</th>\n",
       "      <td>nothing special but they work</td>\n",
       "      <td>These are very thin, but they serve the purpose.</td>\n",
       "      <td>1</td>\n",
       "      <td>these are very thin but they serve the purpose</td>\n",
       "    </tr>\n",
       "    <tr>\n",
       "      <th>1477157</th>\n",
       "      <td>bought 2 mighty bright</td>\n",
       "      <td>The first one kept going off Put in new batter...</td>\n",
       "      <td>1</td>\n",
       "      <td>the first one kept going off put in new batter...</td>\n",
       "    </tr>\n",
       "    <tr>\n",
       "      <th>1700525</th>\n",
       "      <td>Doesnt Print correctly</td>\n",
       "      <td>I must of used this printer 4 or 5 time, the p...</td>\n",
       "      <td>1</td>\n",
       "      <td>i must of used this printer or time the printe...</td>\n",
       "    </tr>\n",
       "  </tbody>\n",
       "</table>\n",
       "</div>"
      ],
      "text/plain": [
       "                                   review_headline  \\\n",
       "1681909  Poor quality for an item that was costly.   \n",
       "2127992              Ripped after 1 DAY of use!!!!   \n",
       "1113938              nothing special but they work   \n",
       "1477157                     bought 2 mighty bright   \n",
       "1700525                     Doesnt Print correctly   \n",
       "\n",
       "                                               review_body  new_class  \\\n",
       "1681909  Last school year I purchased it for my daughte...          1   \n",
       "2127992  If you are thinking of purchasing this product...          1   \n",
       "1113938   These are very thin, but they serve the purpose.          1   \n",
       "1477157  The first one kept going off Put in new batter...          1   \n",
       "1700525  I must of used this printer 4 or 5 time, the p...          1   \n",
       "\n",
       "                                       review_body_cleaned  \n",
       "1681909  last school year i purchased it for my daughte...  \n",
       "2127992  if you are thinking of purchasing this product...  \n",
       "1113938     these are very thin but they serve the purpose  \n",
       "1477157  the first one kept going off put in new batter...  \n",
       "1700525  i must of used this printer or time the printe...  "
      ]
     },
     "execution_count": 12,
     "metadata": {},
     "output_type": "execute_result"
    }
   ],
   "source": [
    "df_50k.head()"
   ]
  },
  {
   "cell_type": "code",
   "execution_count": 13,
   "metadata": {},
   "outputs": [
    {
     "name": "stdout",
     "output_type": "stream",
     "text": [
      "Average length of reviews before cleaning: 317.60 characters\n",
      "Average length of reviews after cleaning: 300.86 characters\n"
     ]
    }
   ],
   "source": [
    "avg_length_before = df_50k['review_body'].apply(len).mean()\n",
    "avg_length_after = df_50k['review_body_cleaned'].apply(len).mean()\n",
    "\n",
    "# Print the results\n",
    "print(f\"Average length of reviews before cleaning: {avg_length_before:.2f} characters\")\n",
    "print(f\"Average length of reviews after cleaning: {avg_length_after:.2f} characters\")\n",
    "# print(f\"{avg_length_before:.2f}, {avg_length_after:.2f}\")"
   ]
  },
  {
   "cell_type": "code",
   "execution_count": 14,
   "metadata": {},
   "outputs": [],
   "source": [
    "def get_review_length(text):\n",
    "    return len(word_tokenize(text))\n",
    "df_50k['review_body_length']=df_50k['review_body'].apply(lambda x: get_review_length(x))\n",
    "df_50k['review_body_cleaned_length']=df_50k['review_body_cleaned'].apply(lambda x: get_review_length(x))"
   ]
  },
  {
   "cell_type": "code",
   "execution_count": 15,
   "metadata": {},
   "outputs": [
    {
     "name": "stdout",
     "output_type": "stream",
     "text": [
      "Average length of reviews before cleaning: 68.97108 words\n",
      "Average length of reviews after cleaning: 57.03143 words\n"
     ]
    }
   ],
   "source": [
    "print(f\"Average length of reviews before cleaning: {df_50k[['review_body_length', 'review_body_cleaned_length']].describe().iloc[1].values[0]} words\")\n",
    "print(f\"Average length of reviews after cleaning: {df_50k[['review_body_length', 'review_body_cleaned_length']].describe().iloc[1].values[1]} words\")\n"
   ]
  },
  {
   "cell_type": "markdown",
   "metadata": {},
   "source": [
    "# 3. Preprocessing\n",
    "## (i) Remove the stop words"
   ]
  },
  {
   "cell_type": "code",
   "execution_count": 16,
   "metadata": {},
   "outputs": [],
   "source": [
    "stop_wds = stopwords.words('english')\n",
    "def remove_stop_wds(text):\n",
    "    l=[]\n",
    "    text = word_tokenize(text)\n",
    "    for word in text:\n",
    "        if word not in stop_wds:\n",
    "            l.append(word)\n",
    "    return \" \".join(l)\n",
    "\n",
    "df_50k['review_body_stopwds_processed']=df_50k['review_body_cleaned'].apply(lambda x: remove_stop_wds(x))"
   ]
  },
  {
   "cell_type": "code",
   "execution_count": 17,
   "metadata": {},
   "outputs": [
    {
     "name": "stdout",
     "output_type": "stream",
     "text": [
      "Average length of reviews before any processing: 317.60 characters\n",
      "Average length of reviews after cleaning: 300.86 characters\n",
      "Average length of reviews after cleaning and stemming: 194.60 characters\n"
     ]
    }
   ],
   "source": [
    "avg_length_nopreprocessing = df_50k['review_body'].apply(len).mean()\n",
    "avg_length_clean = df_50k['review_body_cleaned'].apply(len).mean()\n",
    "avg_length_clean_stpwds = df_50k['review_body_stopwds_processed'].apply(len).mean()\n",
    "\n",
    "# Print the results\n",
    "print(f\"Average length of reviews before any processing: {avg_length_nopreprocessing:.2f} characters\")\n",
    "print(f\"Average length of reviews after cleaning: {avg_length_clean:.2f} characters\")\n",
    "print(f\"Average length of reviews after cleaning and stemming: {avg_length_clean_stpwds:.2f} characters\")"
   ]
  },
  {
   "cell_type": "markdown",
   "metadata": {},
   "source": [
    "## (ii) Perform lemmatization"
   ]
  },
  {
   "cell_type": "code",
   "execution_count": 29,
   "metadata": {},
   "outputs": [],
   "source": [
    "lemmatizer = WordNetLemmatizer()\n",
    "def lemmatize_wds(text):\n",
    "    l=[]\n",
    "    text = word_tokenize(text)\n",
    "    for word in text:\n",
    "        worded = lemmatizer.lemmatize(word, pos='v')\n",
    "        l.append(word)\n",
    "    return \" \".join(l)\n",
    "\n",
    "df_50k['review_body_lemm_processed']=df_50k['review_body_stopwds_processed'].apply(lambda x: lemmatize_wds(x))"
   ]
  },
  {
   "cell_type": "code",
   "execution_count": 30,
   "metadata": {},
   "outputs": [
    {
     "name": "stdout",
     "output_type": "stream",
     "text": [
      "Average length of reviews before any processing: 317.60 characters\n",
      "Average length of reviews after cleaning: 300.86 characters\n",
      "Average length of reviews after cleaning and stemming: 194.60 characters\n",
      "Average length of reviews after cleaning and stemming and lemmetizing: 194.60 characters\n"
     ]
    }
   ],
   "source": [
    "avg_length_nopreprocessing = df_50k['review_body'].apply(len).mean()\n",
    "avg_length_clean = df_50k['review_body_cleaned'].apply(len).mean()\n",
    "avg_length_clean_stpwds = df_50k['review_body_stopwds_processed'].apply(len).mean()\n",
    "avg_length_clean_lemm = df_50k['review_body_lemm_processed'].apply(len).mean()\n",
    "\n",
    "# Print the results\n",
    "print(f\"Average length of reviews before any processing: {avg_length_nopreprocessing:.2f} characters\")\n",
    "print(f\"Average length of reviews after cleaning: {avg_length_clean:.2f} characters\")\n",
    "print(f\"Average length of reviews after cleaning and stemming: {avg_length_clean_stpwds:.2f} characters\")\n",
    "print(f\"Average length of reviews after cleaning and stemming and lemmetizing: {avg_length_clean_lemm:.2f} characters\")"
   ]
  },
  {
   "cell_type": "code",
   "execution_count": 31,
   "metadata": {},
   "outputs": [
    {
     "data": {
      "text/plain": [
       "review_body_length                   68.97108\n",
       "review_body_cleaned_length           57.03143\n",
       "review_body_lemm_processed_length    28.81422\n",
       "Name: mean, dtype: float64"
      ]
     },
     "execution_count": 31,
     "metadata": {},
     "output_type": "execute_result"
    }
   ],
   "source": [
    "df_50k['review_body_length']=df_50k['review_body'].apply(lambda x: get_review_length(x))\n",
    "df_50k['review_body_cleaned_length']=df_50k['review_body_cleaned'].apply(lambda x: get_review_length(x))\n",
    "df_50k['review_body_stopwds_processed_length']=df_50k['review_body_stopwds_processed'].apply(lambda x: get_review_length(x))\n",
    "df_50k['review_body_lemm_processed_length']=df_50k['review_body_lemm_processed'].apply(lambda x: get_review_length(x))\n",
    "df_50k[[\"review_body_length\", \"review_body_cleaned_length\", \"review_body_lemm_processed_length\"]].describe().iloc[1]"
   ]
  },
  {
   "cell_type": "code",
   "execution_count": 32,
   "metadata": {},
   "outputs": [
    {
     "name": "stdout",
     "output_type": "stream",
     "text": [
      "Average length of reviews before processing: 68.97108\n",
      "Average length of reviews after cleaning: 57.03143\n",
      "Average length of reviews after stemming and lemmatization: 28.81422\n"
     ]
    }
   ],
   "source": [
    "print(f\"Average length of reviews before processing: {df_50k[['review_body_length', 'review_body_cleaned_length', 'review_body_lemm_processed_length']].describe().iloc[1].values[0]}\")\n",
    "print(f\"Average length of reviews after cleaning: {df_50k[['review_body_length', 'review_body_cleaned_length', 'review_body_lemm_processed_length']].describe().iloc[1].values[1]}\")\n",
    "print(f\"Average length of reviews after stemming and lemmatization: {df_50k[['review_body_length', 'review_body_cleaned_length', 'review_body_lemm_processed_length']].describe().iloc[1].values[2]}\")\n"
   ]
  },
  {
   "cell_type": "markdown",
   "metadata": {},
   "source": [
    "# 4. Feature Extraction\n",
    "## (i) Bag of Words"
   ]
  },
  {
   "cell_type": "code",
   "execution_count": 33,
   "metadata": {},
   "outputs": [],
   "source": [
    "bow_vectorizer = CountVectorizer()\n",
    "X_bow = bow_vectorizer.fit_transform(df_50k['review_body_lemm_processed'])"
   ]
  },
  {
   "cell_type": "markdown",
   "metadata": {},
   "source": [
    "## (ii) TF-IDF"
   ]
  },
  {
   "cell_type": "code",
   "execution_count": 34,
   "metadata": {},
   "outputs": [],
   "source": [
    "tfidf_vectorizer = TfidfVectorizer()\n",
    "X_tfidf = tfidf_vectorizer.fit_transform(df_50k['review_body_lemm_processed'])"
   ]
  },
  {
   "cell_type": "markdown",
   "metadata": {},
   "source": [
    "## (iii) Train Test Split"
   ]
  },
  {
   "cell_type": "code",
   "execution_count": 35,
   "metadata": {},
   "outputs": [],
   "source": [
    "y = df_50k['new_class']\n",
    "X_train_tfidf, X_test_tfidf, y_train_tfidf, y_test_tfidf = train_test_split(X_tfidf, y, test_size=0.2, random_state=42)\n",
    "X_train_bow, X_test_bow, y_train_bow, y_test_bow = train_test_split(X_bow, y, test_size=0.2, random_state=42)"
   ]
  },
  {
   "cell_type": "code",
   "execution_count": 36,
   "metadata": {},
   "outputs": [],
   "source": [
    "def train_funct(clf, X_train, y_train, X_test, y_test):\n",
    "    clf.fit(X_train, y_train)\n",
    "    y_hat = clf.predict(X_test)\n",
    "    \n",
    "    precision = precision_score(y_test, y_hat, average=\"weighted\")\n",
    "    recall = recall_score(y_test, y_hat, average=\"weighted\")\n",
    "    f1 = f1_score(y_test, y_hat, average=\"weighted\")\n",
    "    \n",
    "    # Get the confusion matrix\n",
    "    cm = confusion_matrix(y_test, y_hat)\n",
    "    \n",
    "    # Plot the confusion matrix\n",
    "    plt.figure(figsize=(8, 6))\n",
    "    sns.heatmap(cm, annot=True, fmt='d', cmap='Blues', cbar=False)\n",
    "    plt.xlabel('Predicted')\n",
    "    plt.ylabel('Actual')\n",
    "    plt.title('Confusion Matrix')\n",
    "    plt.show()\n",
    "    \n",
    "    # Get the classification report\n",
    "    class_report = classification_report(y_test, y_hat)\n",
    "    \n",
    "    # Print the classification report\n",
    "    print(\"Classification Report:\")\n",
    "    print(class_report)\n",
    "    \n",
    "    return precision, recall, f1\n",
    "\n",
    "def get_results_df(clf, \n",
    "                   precision_tfidf, recall_tfidf, f1_tfidf, \n",
    "                   precision_bow, recall_bow, f1_bow):\n",
    "    \n",
    "    model_name = type(clf).__name__\n",
    "    data = {\n",
    "        'Algorithm': [model_name, model_name],\n",
    "        'Approach': ['BoW', 'TF-IDF'],\n",
    "        'Precision': [precision_bow, precision_tfidf],\n",
    "        'Recall': [recall_bow, recall_tfidf],\n",
    "        'F1-Score': [f1_bow, f1_tfidf]\n",
    "    }\n",
    "    \n",
    "    results_df = pd.DataFrame(data)\n",
    "    print([\" \".join(map(str, v[2:])) for v in results_df.values][0])\n",
    "    print([\" \".join(map(str, v[2:])) for v in results_df.values][1])\n",
    "    \n",
    "    return results_df\n"
   ]
  },
  {
   "cell_type": "markdown",
   "metadata": {},
   "source": [
    "# 5. Perceptron"
   ]
  },
  {
   "cell_type": "markdown",
   "metadata": {},
   "source": [
    "## (i)TF-IDF"
   ]
  },
  {
   "cell_type": "code",
   "execution_count": 37,
   "metadata": {},
   "outputs": [
    {
     "data": {
      "image/png": "[encoded data removed]",
      "text/plain": [
       "<Figure size 800x600 with 1 Axes>"
      ]
     },
     "metadata": {},
     "output_type": "display_data"
    },
    {
     "name": "stdout",
     "output_type": "stream",
     "text": [
      "Classification Report:\n",
      "              precision    recall  f1-score   support\n",
      "\n",
      "           1       0.78      0.81      0.79     10035\n",
      "           2       0.80      0.77      0.78      9965\n",
      "\n",
      "    accuracy                           0.79     20000\n",
      "   macro avg       0.79      0.79      0.79     20000\n",
      "weighted avg       0.79      0.79      0.79     20000\n",
      "\n"
     ]
    }
   ],
   "source": [
    "clf_perceptron = Perceptron(tol=1e-3, random_state=0)\n",
    "precision_perceptron_tfidf, recall_perceptron_tfidf, f1_perceptron_tfidf = train_funct(clf_perceptron, X_train_tfidf, y_train_tfidf, X_test_tfidf, y_test_tfidf)"
   ]
  },
  {
   "cell_type": "markdown",
   "metadata": {},
   "source": [
    "## (ii) BoW"
   ]
  },
  {
   "cell_type": "code",
   "execution_count": 38,
   "metadata": {},
   "outputs": [
    {
     "data": {
      "image/png": "[encoded data removed]",
      "text/plain": [
       "<Figure size 800x600 with 1 Axes>"
      ]
     },
     "metadata": {},
     "output_type": "display_data"
    },
    {
     "name": "stdout",
     "output_type": "stream",
     "text": [
      "Classification Report:\n",
      "              precision    recall  f1-score   support\n",
      "\n",
      "           1       0.81      0.80      0.80     10035\n",
      "           2       0.80      0.81      0.80      9965\n",
      "\n",
      "    accuracy                           0.80     20000\n",
      "   macro avg       0.80      0.80      0.80     20000\n",
      "weighted avg       0.80      0.80      0.80     20000\n",
      "\n"
     ]
    }
   ],
   "source": [
    "# clf_perceptron_bow = Perceptron(tol=1e-3, random_state=0)\n",
    "precision_perceptron_bow, recall_perceptron_bow, f1_perceptron_bow = train_funct(clf_perceptron, X_train_bow, y_train_bow, X_test_bow, y_test_bow)"
   ]
  },
  {
   "cell_type": "code",
   "execution_count": 39,
   "metadata": {},
   "outputs": [
    {
     "name": "stdout",
     "output_type": "stream",
     "text": [
      "0.8029196712909734 0.8029 0.8029\n",
      "0.7904536478794268 0.79 0.7898975538817528\n"
     ]
    },
    {
     "data": {
      "text/html": [
       "<div>\n",
       "<style scoped>\n",
       "    .dataframe tbody tr th:only-of-type {\n",
       "        vertical-align: middle;\n",
       "    }\n",
       "\n",
       "    .dataframe tbody tr th {\n",
       "        vertical-align: top;\n",
       "    }\n",
       "\n",
       "    .dataframe thead th {\n",
       "        text-align: right;\n",
       "    }\n",
       "</style>\n",
       "<table border=\"1\" class=\"dataframe\">\n",
       "  <thead>\n",
       "    <tr style=\"text-align: right;\">\n",
       "      <th></th>\n",
       "      <th>Algorithm</th>\n",
       "      <th>Approach</th>\n",
       "      <th>Precision</th>\n",
       "      <th>Recall</th>\n",
       "      <th>F1-Score</th>\n",
       "    </tr>\n",
       "  </thead>\n",
       "  <tbody>\n",
       "    <tr>\n",
       "      <th>0</th>\n",
       "      <td>Perceptron</td>\n",
       "      <td>BoW</td>\n",
       "      <td>0.802920</td>\n",
       "      <td>0.8029</td>\n",
       "      <td>0.802900</td>\n",
       "    </tr>\n",
       "    <tr>\n",
       "      <th>1</th>\n",
       "      <td>Perceptron</td>\n",
       "      <td>TF-IDF</td>\n",
       "      <td>0.790454</td>\n",
       "      <td>0.7900</td>\n",
       "      <td>0.789898</td>\n",
       "    </tr>\n",
       "  </tbody>\n",
       "</table>\n",
       "</div>"
      ],
      "text/plain": [
       "    Algorithm Approach  Precision  Recall  F1-Score\n",
       "0  Perceptron      BoW   0.802920  0.8029  0.802900\n",
       "1  Perceptron   TF-IDF   0.790454  0.7900  0.789898"
      ]
     },
     "metadata": {},
     "output_type": "display_data"
    }
   ],
   "source": [
    "results_df_perceptron = get_results_df(clf_perceptron, \n",
    "                   precision_perceptron_tfidf, recall_perceptron_tfidf, f1_perceptron_tfidf, \n",
    "                   precision_perceptron_bow, recall_perceptron_bow, f1_perceptron_bow)\n",
    "\n",
    "display(results_df_perceptron)"
   ]
  },
  {
   "cell_type": "markdown",
   "metadata": {},
   "source": [
    "# 6. SVM\n",
    "## (i) BoW"
   ]
  },
  {
   "cell_type": "code",
   "execution_count": 31,
   "metadata": {},
   "outputs": [
    {
     "data": {
      "image/png": "[encoded data removed]",
      "text/plain": [
       "<Figure size 800x600 with 1 Axes>"
      ]
     },
     "metadata": {},
     "output_type": "display_data"
    },
    {
     "name": "stdout",
     "output_type": "stream",
     "text": [
      "Classification Report:\n",
      "              precision    recall  f1-score   support\n",
      "\n",
      "           1       0.84      0.81      0.83     10035\n",
      "           2       0.82      0.84      0.83      9965\n",
      "\n",
      "    accuracy                           0.83     20000\n",
      "   macro avg       0.83      0.83      0.83     20000\n",
      "weighted avg       0.83      0.83      0.83     20000\n",
      "\n"
     ]
    }
   ],
   "source": [
    "from sklearn.svm import SVC\n",
    "from sklearn.pipeline import make_pipeline\n",
    "from sklearn.preprocessing import StandardScaler\n",
    "\n",
    "clf_svm = LinearSVC(dual=True, random_state=0, tol=1e-5, max_iter=100000)\n",
    "precision_svm_bow, recall_svm_bow, f1_svm_bow = train_funct(clf_svm, X_train_bow, y_train_bow, X_test_bow, y_test_bow)"
   ]
  },
  {
   "cell_type": "markdown",
   "metadata": {},
   "source": [
    "## (ii) TF-IDF"
   ]
  },
  {
   "cell_type": "code",
   "execution_count": 32,
   "metadata": {},
   "outputs": [
    {
     "data": {
      "image/png": "[encoded data removed]",
      "text/plain": [
       "<Figure size 800x600 with 1 Axes>"
      ]
     },
     "metadata": {},
     "output_type": "display_data"
    },
    {
     "name": "stdout",
     "output_type": "stream",
     "text": [
      "Classification Report:\n",
      "              precision    recall  f1-score   support\n",
      "\n",
      "           1       0.84      0.84      0.84     10035\n",
      "           2       0.84      0.84      0.84      9965\n",
      "\n",
      "    accuracy                           0.84     20000\n",
      "   macro avg       0.84      0.84      0.84     20000\n",
      "weighted avg       0.84      0.84      0.84     20000\n",
      "\n"
     ]
    }
   ],
   "source": [
    "precision_svm_tfidf, recall_svm_tfidf, f1_svm_tfidf = train_funct(clf_svm, X_train_tfidf, y_train_tfidf, X_test_tfidf, y_test_tfidf)"
   ]
  },
  {
   "cell_type": "code",
   "execution_count": 44,
   "metadata": {},
   "outputs": [
    {
     "name": "stdout",
     "output_type": "stream",
     "text": [
      "0.840573728201424 0.8117588440458395 0.8259150359931055\n",
      "0.8439624150339864 0.8413552566018934 0.8426568192025551\n"
     ]
    },
    {
     "data": {
      "text/html": [
       "<div>\n",
       "<style scoped>\n",
       "    .dataframe tbody tr th:only-of-type {\n",
       "        vertical-align: middle;\n",
       "    }\n",
       "\n",
       "    .dataframe tbody tr th {\n",
       "        vertical-align: top;\n",
       "    }\n",
       "\n",
       "    .dataframe thead th {\n",
       "        text-align: right;\n",
       "    }\n",
       "</style>\n",
       "<table border=\"1\" class=\"dataframe\">\n",
       "  <thead>\n",
       "    <tr style=\"text-align: right;\">\n",
       "      <th></th>\n",
       "      <th>Algorithm</th>\n",
       "      <th>Approach</th>\n",
       "      <th>Precision</th>\n",
       "      <th>Recall</th>\n",
       "      <th>F1-Score</th>\n",
       "    </tr>\n",
       "  </thead>\n",
       "  <tbody>\n",
       "    <tr>\n",
       "      <th>0</th>\n",
       "      <td>LinearSVC</td>\n",
       "      <td>BoW</td>\n",
       "      <td>0.840574</td>\n",
       "      <td>0.811759</td>\n",
       "      <td>0.825915</td>\n",
       "    </tr>\n",
       "    <tr>\n",
       "      <th>1</th>\n",
       "      <td>LinearSVC</td>\n",
       "      <td>TF-IDF</td>\n",
       "      <td>0.843962</td>\n",
       "      <td>0.841355</td>\n",
       "      <td>0.842657</td>\n",
       "    </tr>\n",
       "  </tbody>\n",
       "</table>\n",
       "</div>"
      ],
      "text/plain": [
       "   Algorithm Approach  Precision    Recall  F1-Score\n",
       "0  LinearSVC      BoW   0.840574  0.811759  0.825915\n",
       "1  LinearSVC   TF-IDF   0.843962  0.841355  0.842657"
      ]
     },
     "metadata": {},
     "output_type": "display_data"
    }
   ],
   "source": [
    "results_df_svm = get_results_df(clf_svm, \n",
    "                                precision_svm_tfidf, recall_svm_tfidf, f1_svm_tfidf,\n",
    "                               precision_svm_bow, recall_svm_bow, f1_svm_bow)\n",
    "\n",
    "display(results_df_svm)"
   ]
  },
  {
   "cell_type": "markdown",
   "metadata": {},
   "source": [
    "# 7. Logistic Regression\n",
    "## (i) BoW"
   ]
  },
  {
   "cell_type": "code",
   "execution_count": 34,
   "metadata": {},
   "outputs": [
    {
     "data": {
      "image/png": "[encoded data removed]",
      "text/plain": [
       "<Figure size 800x600 with 1 Axes>"
      ]
     },
     "metadata": {},
     "output_type": "display_data"
    },
    {
     "name": "stdout",
     "output_type": "stream",
     "text": [
      "Classification Report:\n",
      "              precision    recall  f1-score   support\n",
      "\n",
      "           1       0.86      0.82      0.84     10035\n",
      "           2       0.83      0.86      0.85      9965\n",
      "\n",
      "    accuracy                           0.84     20000\n",
      "   macro avg       0.84      0.84      0.84     20000\n",
      "weighted avg       0.84      0.84      0.84     20000\n",
      "\n"
     ]
    }
   ],
   "source": [
    "clf_lr = LogisticRegression(random_state=0)\n",
    "precision_lr_bow, recall_lr_bow, f1_lr_bow = train_funct(clf_lr, X_train_bow, y_train_bow, X_test_bow, y_test_bow)"
   ]
  },
  {
   "cell_type": "markdown",
   "metadata": {},
   "source": [
    "## (ii) TF-IDF"
   ]
  },
  {
   "cell_type": "code",
   "execution_count": 35,
   "metadata": {},
   "outputs": [
    {
     "data": {
      "image/png": "[encoded data removed]",
      "text/plain": [
       "<Figure size 800x600 with 1 Axes>"
      ]
     },
     "metadata": {},
     "output_type": "display_data"
    },
    {
     "name": "stdout",
     "output_type": "stream",
     "text": [
      "Classification Report:\n",
      "              precision    recall  f1-score   support\n",
      "\n",
      "           1       0.85      0.86      0.85     10035\n",
      "           2       0.85      0.84      0.85      9965\n",
      "\n",
      "    accuracy                           0.85     20000\n",
      "   macro avg       0.85      0.85      0.85     20000\n",
      "weighted avg       0.85      0.85      0.85     20000\n",
      "\n"
     ]
    }
   ],
   "source": [
    "precision_lr_tfidf, recall_lr_tfidf, f1_lr_tfidf = train_funct(clf_lr, X_train_tfidf, y_train_tfidf, X_test_tfidf, y_test_tfidf)"
   ]
  },
  {
   "cell_type": "code",
   "execution_count": 45,
   "metadata": {},
   "outputs": [
    {
     "name": "stdout",
     "output_type": "stream",
     "text": [
      "0.8577957826945051 0.8229197807673144 0.8399959312379208\n",
      "0.8460856720827179 0.856203288490284 0.8511144130757802\n"
     ]
    },
    {
     "data": {
      "text/html": [
       "<div>\n",
       "<style scoped>\n",
       "    .dataframe tbody tr th:only-of-type {\n",
       "        vertical-align: middle;\n",
       "    }\n",
       "\n",
       "    .dataframe tbody tr th {\n",
       "        vertical-align: top;\n",
       "    }\n",
       "\n",
       "    .dataframe thead th {\n",
       "        text-align: right;\n",
       "    }\n",
       "</style>\n",
       "<table border=\"1\" class=\"dataframe\">\n",
       "  <thead>\n",
       "    <tr style=\"text-align: right;\">\n",
       "      <th></th>\n",
       "      <th>Algorithm</th>\n",
       "      <th>Approach</th>\n",
       "      <th>Precision</th>\n",
       "      <th>Recall</th>\n",
       "      <th>F1-Score</th>\n",
       "    </tr>\n",
       "  </thead>\n",
       "  <tbody>\n",
       "    <tr>\n",
       "      <th>0</th>\n",
       "      <td>LogisticRegression</td>\n",
       "      <td>BoW</td>\n",
       "      <td>0.857796</td>\n",
       "      <td>0.822920</td>\n",
       "      <td>0.839996</td>\n",
       "    </tr>\n",
       "    <tr>\n",
       "      <th>1</th>\n",
       "      <td>LogisticRegression</td>\n",
       "      <td>TF-IDF</td>\n",
       "      <td>0.846086</td>\n",
       "      <td>0.856203</td>\n",
       "      <td>0.851114</td>\n",
       "    </tr>\n",
       "  </tbody>\n",
       "</table>\n",
       "</div>"
      ],
      "text/plain": [
       "            Algorithm Approach  Precision    Recall  F1-Score\n",
       "0  LogisticRegression      BoW   0.857796  0.822920  0.839996\n",
       "1  LogisticRegression   TF-IDF   0.846086  0.856203  0.851114"
      ]
     },
     "metadata": {},
     "output_type": "display_data"
    }
   ],
   "source": [
    "results_df_lr = get_results_df(clf_lr, \n",
    "                                precision_lr_tfidf, recall_lr_tfidf, f1_lr_tfidf,\n",
    "                               precision_lr_bow, recall_lr_bow, f1_lr_bow)\n",
    "\n",
    "display(results_df_lr)"
   ]
  },
  {
   "cell_type": "markdown",
   "metadata": {},
   "source": [
    "# 8. Naive Bayes\n",
    "## (i) BoW"
   ]
  },
  {
   "cell_type": "code",
   "execution_count": 37,
   "metadata": {},
   "outputs": [
    {
     "data": {
      "image/png": "[encoded data removed]",
      "text/plain": [
       "<Figure size 800x600 with 1 Axes>"
      ]
     },
     "metadata": {},
     "output_type": "display_data"
    },
    {
     "name": "stdout",
     "output_type": "stream",
     "text": [
      "Classification Report:\n",
      "              precision    recall  f1-score   support\n",
      "\n",
      "           1       0.84      0.77      0.80     10035\n",
      "           2       0.79      0.85      0.82      9965\n",
      "\n",
      "    accuracy                           0.81     20000\n",
      "   macro avg       0.81      0.81      0.81     20000\n",
      "weighted avg       0.81      0.81      0.81     20000\n",
      "\n"
     ]
    }
   ],
   "source": [
    "clf_nb = MultinomialNB()\n",
    "precision_nb_bow, recall_nb_bow, f1_nb_bow = train_funct(clf_nb, X_train_bow.toarray(), y_train_bow, X_test_bow.toarray(), y_test_bow)"
   ]
  },
  {
   "cell_type": "markdown",
   "metadata": {},
   "source": [
    "## (ii) TF-IDF"
   ]
  },
  {
   "cell_type": "code",
   "execution_count": 38,
   "metadata": {},
   "outputs": [
    {
     "data": {
      "image/png": "[encoded data removed]",
      "text/plain": [
       "<Figure size 800x600 with 1 Axes>"
      ]
     },
     "metadata": {},
     "output_type": "display_data"
    },
    {
     "name": "stdout",
     "output_type": "stream",
     "text": [
      "Classification Report:\n",
      "              precision    recall  f1-score   support\n",
      "\n",
      "           1       0.80      0.86      0.83     10035\n",
      "           2       0.85      0.78      0.81      9965\n",
      "\n",
      "    accuracy                           0.82     20000\n",
      "   macro avg       0.82      0.82      0.82     20000\n",
      "weighted avg       0.82      0.82      0.82     20000\n",
      "\n"
     ]
    }
   ],
   "source": [
    "precision_nb_tfidf, recall_nb_tfidf, f1_nb_tfidf = train_funct(clf_nb, X_train_tfidf.toarray(), y_train_tfidf, X_test_tfidf.toarray(), y_test_tfidf)"
   ]
  },
  {
   "cell_type": "code",
   "execution_count": 46,
   "metadata": {},
   "outputs": [
    {
     "name": "stdout",
     "output_type": "stream",
     "text": [
      "0.8381715771230502 0.7711011459890383 0.803238698292417\n",
      "0.7996841029452755 0.8576980568011958 0.8276757380517357\n"
     ]
    },
    {
     "data": {
      "text/html": [
       "<div>\n",
       "<style scoped>\n",
       "    .dataframe tbody tr th:only-of-type {\n",
       "        vertical-align: middle;\n",
       "    }\n",
       "\n",
       "    .dataframe tbody tr th {\n",
       "        vertical-align: top;\n",
       "    }\n",
       "\n",
       "    .dataframe thead th {\n",
       "        text-align: right;\n",
       "    }\n",
       "</style>\n",
       "<table border=\"1\" class=\"dataframe\">\n",
       "  <thead>\n",
       "    <tr style=\"text-align: right;\">\n",
       "      <th></th>\n",
       "      <th>Algorithm</th>\n",
       "      <th>Approach</th>\n",
       "      <th>Precision</th>\n",
       "      <th>Recall</th>\n",
       "      <th>F1-Score</th>\n",
       "    </tr>\n",
       "  </thead>\n",
       "  <tbody>\n",
       "    <tr>\n",
       "      <th>0</th>\n",
       "      <td>MultinomialNB</td>\n",
       "      <td>BoW</td>\n",
       "      <td>0.838172</td>\n",
       "      <td>0.771101</td>\n",
       "      <td>0.803239</td>\n",
       "    </tr>\n",
       "    <tr>\n",
       "      <th>1</th>\n",
       "      <td>MultinomialNB</td>\n",
       "      <td>TF-IDF</td>\n",
       "      <td>0.799684</td>\n",
       "      <td>0.857698</td>\n",
       "      <td>0.827676</td>\n",
       "    </tr>\n",
       "  </tbody>\n",
       "</table>\n",
       "</div>"
      ],
      "text/plain": [
       "       Algorithm Approach  Precision    Recall  F1-Score\n",
       "0  MultinomialNB      BoW   0.838172  0.771101  0.803239\n",
       "1  MultinomialNB   TF-IDF   0.799684  0.857698  0.827676"
      ]
     },
     "metadata": {},
     "output_type": "display_data"
    }
   ],
   "source": [
    "results_df_nb = get_results_df(clf_nb, \n",
    "                                precision_nb_tfidf, recall_nb_tfidf, f1_nb_tfidf,\n",
    "                               precision_nb_bow, recall_nb_bow, f1_nb_bow)\n",
    "\n",
    "display(results_df_nb)"
   ]
  },
  {
   "cell_type": "code",
   "execution_count": 40,
   "metadata": {},
   "outputs": [
    {
     "data": {
      "text/html": [
       "<div>\n",
       "<style scoped>\n",
       "    .dataframe tbody tr th:only-of-type {\n",
       "        vertical-align: middle;\n",
       "    }\n",
       "\n",
       "    .dataframe tbody tr th {\n",
       "        vertical-align: top;\n",
       "    }\n",
       "\n",
       "    .dataframe thead th {\n",
       "        text-align: right;\n",
       "    }\n",
       "</style>\n",
       "<table border=\"1\" class=\"dataframe\">\n",
       "  <thead>\n",
       "    <tr style=\"text-align: right;\">\n",
       "      <th></th>\n",
       "      <th>Approach</th>\n",
       "      <th>Precision</th>\n",
       "      <th>Recall</th>\n",
       "      <th>F1-Score</th>\n",
       "    </tr>\n",
       "    <tr>\n",
       "      <th>Algorithm</th>\n",
       "      <th></th>\n",
       "      <th></th>\n",
       "      <th></th>\n",
       "      <th></th>\n",
       "    </tr>\n",
       "  </thead>\n",
       "  <tbody>\n",
       "    <tr>\n",
       "      <th>Perceptron</th>\n",
       "      <td>BoW</td>\n",
       "      <td>0.805720</td>\n",
       "      <td>0.800100</td>\n",
       "      <td>0.802900</td>\n",
       "    </tr>\n",
       "    <tr>\n",
       "      <th>Perceptron</th>\n",
       "      <td>TF-IDF</td>\n",
       "      <td>0.779374</td>\n",
       "      <td>0.811061</td>\n",
       "      <td>0.794902</td>\n",
       "    </tr>\n",
       "    <tr>\n",
       "      <th>LinearSVC</th>\n",
       "      <td>BoW</td>\n",
       "      <td>0.840574</td>\n",
       "      <td>0.811759</td>\n",
       "      <td>0.825915</td>\n",
       "    </tr>\n",
       "    <tr>\n",
       "      <th>LinearSVC</th>\n",
       "      <td>TF-IDF</td>\n",
       "      <td>0.843962</td>\n",
       "      <td>0.841355</td>\n",
       "      <td>0.842657</td>\n",
       "    </tr>\n",
       "    <tr>\n",
       "      <th>LogisticRegression</th>\n",
       "      <td>BoW</td>\n",
       "      <td>0.857796</td>\n",
       "      <td>0.822920</td>\n",
       "      <td>0.839996</td>\n",
       "    </tr>\n",
       "    <tr>\n",
       "      <th>LogisticRegression</th>\n",
       "      <td>TF-IDF</td>\n",
       "      <td>0.846086</td>\n",
       "      <td>0.856203</td>\n",
       "      <td>0.851114</td>\n",
       "    </tr>\n",
       "    <tr>\n",
       "      <th>MultinomialNB</th>\n",
       "      <td>BoW</td>\n",
       "      <td>0.838172</td>\n",
       "      <td>0.771101</td>\n",
       "      <td>0.803239</td>\n",
       "    </tr>\n",
       "    <tr>\n",
       "      <th>MultinomialNB</th>\n",
       "      <td>TF-IDF</td>\n",
       "      <td>0.799684</td>\n",
       "      <td>0.857698</td>\n",
       "      <td>0.827676</td>\n",
       "    </tr>\n",
       "  </tbody>\n",
       "</table>\n",
       "</div>"
      ],
      "text/plain": [
       "                   Approach  Precision    Recall  F1-Score\n",
       "Algorithm                                                 \n",
       "Perceptron              BoW   0.805720  0.800100  0.802900\n",
       "Perceptron           TF-IDF   0.779374  0.811061  0.794902\n",
       "LinearSVC               BoW   0.840574  0.811759  0.825915\n",
       "LinearSVC            TF-IDF   0.843962  0.841355  0.842657\n",
       "LogisticRegression      BoW   0.857796  0.822920  0.839996\n",
       "LogisticRegression   TF-IDF   0.846086  0.856203  0.851114\n",
       "MultinomialNB           BoW   0.838172  0.771101  0.803239\n",
       "MultinomialNB        TF-IDF   0.799684  0.857698  0.827676"
      ]
     },
     "metadata": {},
     "output_type": "display_data"
    }
   ],
   "source": [
    "dataframes_to_merge = [results_df_perceptron, results_df_svm, results_df_lr, results_df_nb]\n",
    "\n",
    "# Concatenate the DataFrames along rows (axis=0)\n",
    "merged_df = pd.concat(dataframes_to_merge, ignore_index=True)\n",
    "merged_df = merged_df.set_index(\"Algorithm\")\n",
    "# Display the merged DataFrame\n",
    "display(merged_df)"
   ]
  },
  {
   "cell_type": "code",
   "execution_count": 41,
   "metadata": {
    "scrolled": true
   },
   "outputs": [
    {
     "name": "stdout",
     "output_type": "stream",
     "text": [
      "317.59742, 300.86103\n",
      "57.03143,28.81422\n",
      "0.8057200200702459 0.8000996512207275 0.8029000000000001\n",
      "0.779373743177248 0.8110612855007474 0.7949018458833871\n",
      "0.840573728201424 0.8117588440458395 0.8259150359931055\n",
      "0.8439624150339864 0.8413552566018934 0.8426568192025551\n",
      "0.8577957826945051 0.8229197807673144 0.8399959312379208\n",
      "0.8460856720827179 0.856203288490284 0.8511144130757802\n",
      "0.8381715771230502 0.7711011459890383 0.803238698292417\n",
      "0.7996841029452755 0.8576980568011958 0.8276757380517357\n"
     ]
    }
   ],
   "source": [
    "# Average length of reviews before and after data cleaning\n",
    "print(f\"{avg_length_nopreprocessing}, {avg_length_clean}\")\n",
    "\n",
    "# Average length of reviews before and after data preprocessing\n",
    "print(f'{df_50k[[\"review_body_length\", \"review_body_cleaned_length\", \"review_body_lemm_processed_length\"]].describe().iloc[1].values[1]},'\n",
    "      f'{df_50k[[\"review_body_length\", \"review_body_cleaned_length\", \"review_body_lemm_processed_length\"]].describe().iloc[1].values[2]}')\n",
    "#Precision, Recall, and f1-score\n",
    "for i in range(merged_df.shape[0]):\n",
    "    if merged_df.iloc[i]['Approach']=='BoW':\n",
    "        print(f\"{merged_df.iloc[i]['Precision']} {merged_df.iloc[i]['Recall']} {merged_df.iloc[i]['F1-Score']}\")\n",
    "    elif merged_df.iloc[i]['Approach']=='TF-IDF':\n",
    "        print(f\"{merged_df.iloc[i]['Precision']} {merged_df.iloc[i]['Recall']} {merged_df.iloc[i]['F1-Score']}\")"
   ]
  },
  {
   "cell_type": "markdown",
   "metadata": {},
   "source": [
    "# References"
   ]
  },
  {
   "cell_type": "markdown",
   "metadata": {},
   "source": [
    "* [TfidfVectorizer Documentation](https://scikit-learn.org/stable/modules/generated/sklearn.feature_extraction.text.TfidfVectorizer.html)\n",
    "* [CountVectorizer Documentation](https://scikit-learn.org/stable/modules/generated/sklearn.feature_extraction.text.CountVectorizer.html)\n",
    "* [train_test_split Documentation](https://scikit-learn.org/stable/modules/generated/sklearn.model_selection.train_test_split.html)\n",
    "* [Perceptron Documentation](https://scikit-learn.org/stable/modules/generated/sklearn.linear_model.Perceptron.html)\n",
    "* [SVC Documentation](https://scikit-learn.org/stable/modules/generated/sklearn.svm.SVC.html)\n"
   ]
  }
 ],
 "metadata": {
  "kernelspec": {
   "display_name": "Python 3 (ipykernel)",
   "language": "python",
   "name": "python3"
  },
  "language_info": {
   "codemirror_mode": {
    "name": "ipython",
    "version": 3
   },
   "file_extension": ".py",
   "mimetype": "text/x-python",
   "name": "python",
   "nbconvert_exporter": "python",
   "pygments_lexer": "ipython3",
   "version": "3.10.9"
  }
 },
 "nbformat": 4,
 "nbformat_minor": 4
}
